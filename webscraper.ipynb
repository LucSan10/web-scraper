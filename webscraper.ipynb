{
 "cells": [
  {
   "cell_type": "code",
   "execution_count": null,
   "metadata": {
    "dotnet_interactive": {
     "language": "csharp"
    },
    "polyglot_notebook": {
     "kernelName": "csharp"
    }
   },
   "outputs": [],
   "source": [
    "import pandas as pd\n",
    "from bs4 import BeautifulSoup\n",
    "from urllib.request import urlopen\n",
    "from tqdm import tqdm"
   ]
  },
  {
   "cell_type": "code",
   "execution_count": null,
   "metadata": {},
   "outputs": [],
   "source": [
    "url = \"https://www.opinautos.com.br\"\n",
    "\n",
    "def get_soup(url):\n",
    "    page = urlopen(url)\n",
    "    html_bytes = page.read()\n",
    "    html = html_bytes.decode(\"utf-8\")\n",
    "    return BeautifulSoup(html, \"html.parser\")\n",
    "\n",
    "def flatten_list(nested_list):\n",
    "    return [item for sublist in nested_list for item in sublist]"
   ]
  },
  {
   "cell_type": "code",
   "execution_count": null,
   "metadata": {
    "dotnet_interactive": {
     "language": "csharp"
    },
    "polyglot_notebook": {
     "kernelName": "csharp"
    }
   },
   "outputs": [],
   "source": [
    "href = \"/br/escolhermarca/\"\n",
    "soup = get_soup(url+href)"
   ]
  },
  {
   "cell_type": "code",
   "execution_count": null,
   "metadata": {},
   "outputs": [],
   "source": [
    "marcas = soup.find(id=\"restoMarcas\").find_all(\"a\")"
   ]
  },
  {
   "cell_type": "code",
   "execution_count": null,
   "metadata": {},
   "outputs": [],
   "source": [
    "todos_carros = []\n",
    "for marca in marcas:\n",
    "    href = marca['href']\n",
    "    soup_marca = get_soup(url+href)\n",
    "    carros = soup_marca.find('div', class_='ColumnsMax5').find_all('a')\n",
    "    \n",
    "    qtd_carros = len(carros)\n",
    "    \n",
    "    for carro in tqdm(carros, total=qtd_carros, desc=href.split('/')[1]):\n",
    "        carro = get_soup(url + carro['href'] + \"/info/manuais\")\n",
    "        manuais = carro.find('div', class_='manuals-box')\n",
    "        if manuais: todos_carros.extend(manuais.find_all(\"a\", recursive=False))"
   ]
  },
  {
   "cell_type": "code",
   "execution_count": 64,
   "metadata": {},
   "outputs": [],
   "source": [
    "df = pd.DataFrame(list(map(lambda x: x['href'].split('/')[1:] + [url+x['href']], todos_carros)), columns=['marca', 'modelo', 'info', 'manual', 'ano', 'link'])\n",
    "df = df.drop(columns=['info', 'manual'])"
   ]
  },
  {
   "cell_type": "code",
   "execution_count": 70,
   "metadata": {},
   "outputs": [],
   "source": [
    "df['marca_count'] = df.groupby(['marca'])['modelo'].transform('count')"
   ]
  },
  {
   "cell_type": "code",
   "execution_count": 75,
   "metadata": {},
   "outputs": [
    {
     "data": {
      "text/html": [
       "<div>\n",
       "<style scoped>\n",
       "    .dataframe tbody tr th:only-of-type {\n",
       "        vertical-align: middle;\n",
       "    }\n",
       "\n",
       "    .dataframe tbody tr th {\n",
       "        vertical-align: top;\n",
       "    }\n",
       "\n",
       "    .dataframe thead th {\n",
       "        text-align: right;\n",
       "    }\n",
       "</style>\n",
       "<table border=\"1\" class=\"dataframe\">\n",
       "  <thead>\n",
       "    <tr style=\"text-align: right;\">\n",
       "      <th></th>\n",
       "      <th>marca</th>\n",
       "      <th>modelo</th>\n",
       "      <th>ano</th>\n",
       "      <th>link</th>\n",
       "      <th>marca_count</th>\n",
       "    </tr>\n",
       "  </thead>\n",
       "  <tbody>\n",
       "    <tr>\n",
       "      <th>468</th>\n",
       "      <td>hyundai</td>\n",
       "      <td>creta</td>\n",
       "      <td>2022</td>\n",
       "      <td>https://www.opinautos.com.br/hyundai/creta/inf...</td>\n",
       "      <td>3</td>\n",
       "    </tr>\n",
       "    <tr>\n",
       "      <th>469</th>\n",
       "      <td>hyundai</td>\n",
       "      <td>hb20</td>\n",
       "      <td>2022</td>\n",
       "      <td>https://www.opinautos.com.br/hyundai/hb20/info...</td>\n",
       "      <td>3</td>\n",
       "    </tr>\n",
       "    <tr>\n",
       "      <th>470</th>\n",
       "      <td>hyundai</td>\n",
       "      <td>veloster</td>\n",
       "      <td>2022</td>\n",
       "      <td>https://www.opinautos.com.br/hyundai/veloster/...</td>\n",
       "      <td>3</td>\n",
       "    </tr>\n",
       "  </tbody>\n",
       "</table>\n",
       "</div>"
      ],
      "text/plain": [
       "       marca    modelo   ano  \\\n",
       "468  hyundai     creta  2022   \n",
       "469  hyundai      hb20  2022   \n",
       "470  hyundai  veloster  2022   \n",
       "\n",
       "                                                  link  marca_count  \n",
       "468  https://www.opinautos.com.br/hyundai/creta/inf...            3  \n",
       "469  https://www.opinautos.com.br/hyundai/hb20/info...            3  \n",
       "470  https://www.opinautos.com.br/hyundai/veloster/...            3  "
      ]
     },
     "execution_count": 75,
     "metadata": {},
     "output_type": "execute_result"
    }
   ],
   "source": [
    "df[df['marca'] == 'hyundai']"
   ]
  },
  {
   "cell_type": "code",
   "execution_count": 72,
   "metadata": {},
   "outputs": [],
   "source": [
    "df.to_csv('manuais_carro.csv')"
   ]
  }
 ],
 "metadata": {
  "kernelspec": {
   "display_name": "Python 3",
   "language": "python",
   "name": "python3"
  },
  "language_info": {
   "codemirror_mode": {
    "name": "ipython",
    "version": 3
   },
   "file_extension": ".py",
   "mimetype": "text/x-python",
   "name": "python",
   "nbconvert_exporter": "python",
   "pygments_lexer": "ipython3",
   "version": "3.10.6"
  },
  "polyglot_notebook": {
   "kernelInfo": {
    "defaultKernelName": "csharp",
    "items": [
     {
      "aliases": [
       "c#",
       "C#"
      ],
      "languageName": "C#",
      "name": "csharp"
     },
     {
      "aliases": [
       "frontend"
      ],
      "languageName": null,
      "name": "vscode"
     }
    ]
   }
  }
 },
 "nbformat": 4,
 "nbformat_minor": 2
}
